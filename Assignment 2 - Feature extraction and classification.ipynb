{
 "cells": [
  {
   "cell_type": "markdown",
   "id": "609bcc26",
   "metadata": {},
   "source": [
    "# Assignment 2 - Feature extraction and classification\n",
    "\n",
    "In this assignment, you are expected to\n",
    "\n",
    "(1) extract global features from a publicly available dataset with one of the pre-trained neural networks available in pytorch, \n",
    "\n",
    "and \n",
    "\n",
    "(2) classify the dataset using the traditional k-Neural Neighbours classifier.\n",
    "\n",
    "You are also asked to implement k-fold cross-validation to evaluate your model."
   ]
  },
  {
   "cell_type": "markdown",
   "id": "70b394f7",
   "metadata": {},
   "source": [
    "------------------------"
   ]
  },
  {
   "cell_type": "code",
   "execution_count": 1,
   "id": "eb4d6682",
   "metadata": {},
   "outputs": [],
   "source": [
    "# Load needed packages\n",
    "import torch\n",
    "import torchvision\n",
    "import torchvision.transforms as transforms\n",
    "import matplotlib.pyplot as plt\n",
    "import numpy as np\n",
    "import seaborn as sns"
   ]
  },
  {
   "cell_type": "markdown",
   "id": "6838957a",
   "metadata": {},
   "source": [
    "When working with Pytorch, dataloader() is a must to know function.\n",
    "\n",
    "Read more about this function and the parameters it accepts in https://blog.paperspace.com/dataloaders-abstractions-pytorch/ ;\n",
    "\n",
    "DataLoader(\n",
    "    dataset,\n",
    "    batch_size=1,\n",
    "    shuffle=False,\n",
    "    num_workers=0,\n",
    "    collate_fn=None,\n",
    "    pin_memory=False,\n",
    " )"
   ]
  },
  {
   "cell_type": "code",
   "execution_count": 2,
   "id": "cb7db27a",
   "metadata": {},
   "outputs": [],
   "source": [
    "from torch.utils.data import DataLoader"
   ]
  },
  {
   "cell_type": "markdown",
   "id": "3b2320b0",
   "metadata": {},
   "source": [
    "The variable transform encapsulates the needed transformations of our data\n",
    "\n",
    "Read more about transforms in https://blog.paperspace.com/dataloaders-abstractions-pytorch/"
   ]
  },
  {
   "cell_type": "code",
   "execution_count": 3,
   "id": "3f3daee7",
   "metadata": {},
   "outputs": [],
   "source": [
    "transform = transforms.Compose([\n",
    "    # resize\n",
    "    transforms.Resize(256),\n",
    "    # center-crop\n",
    "    transforms.CenterCrop(224),\n",
    "    # to-tensor\n",
    "    transforms.ToTensor(),\n",
    "    # normalize\n",
    "    transforms.Normalize([0.49139968, 0.48215841, 0.44653091], [0.24703223, 0.24348513, 0.26158784])\n",
    "])"
   ]
  },
  {
   "cell_type": "markdown",
   "id": "2d746beb",
   "metadata": {},
   "source": [
    "--------------------------------"
   ]
  },
  {
   "cell_type": "markdown",
   "id": "254f0e38",
   "metadata": {},
   "source": [
    "# INPUT DATASET"
   ]
  },
  {
   "cell_type": "markdown",
   "id": "977f4cd8",
   "metadata": {},
   "source": [
    "--------------------------------"
   ]
  },
  {
   "cell_type": "markdown",
   "id": "298ea732",
   "metadata": {},
   "source": [
    "Load your dataset"
   ]
  },
  {
   "cell_type": "code",
   "execution_count": 4,
   "id": "53bb75cf",
   "metadata": {},
   "outputs": [],
   "source": [
    "dataset = 'CIFAR10'\n",
    "classes = ('plane', 'car', 'bird', \n",
    "           'cat','deer', 'dog', 'frog', \n",
    "           'horse', 'ship', 'truck')\n"
   ]
  },
  {
   "cell_type": "code",
   "execution_count": 5,
   "id": "cbaf5a8d-38ad-4c44-98d5-bfec3b549d1c",
   "metadata": {},
   "outputs": [
    {
     "name": "stdout",
     "output_type": "stream",
     "text": [
      "Files already downloaded and verified\n"
     ]
    }
   ],
   "source": [
    "dataset = torchvision.datasets.CIFAR10(root='./datasets', train=True, download=True)"
   ]
  },
  {
   "cell_type": "code",
   "execution_count": 6,
   "id": "04c0aa35-9594-4f75-9beb-ea81d5966dbc",
   "metadata": {},
   "outputs": [
    {
     "name": "stdout",
     "output_type": "stream",
     "text": [
      "[0.49139968 0.48215841 0.44653091]\n",
      "[0.24703223 0.24348513 0.26158784]\n"
     ]
    }
   ],
   "source": [
    "print(dataset.data.mean(axis=(0,1,2))/255)\n",
    "print(dataset.data.std(axis=(0,1,2))/255)"
   ]
  },
  {
   "cell_type": "code",
   "execution_count": 7,
   "id": "8f4f51b7-be6b-4c04-9e6c-53fb7ca4e8bb",
   "metadata": {},
   "outputs": [
    {
     "name": "stdout",
     "output_type": "stream",
     "text": [
      "Files already downloaded and verified\n",
      "Files already downloaded and verified\n"
     ]
    }
   ],
   "source": [
    "train_data = torchvision.datasets.CIFAR10(root='./datasets', train=True, download=True, transform=transform)\n",
    "trainloader = torch.utils.data.DataLoader(train_data, batch_size=4, shuffle=True, num_workers=2)\n",
    "\n",
    "test_data = torchvision.datasets.CIFAR10(root='./datasets', train=False, download=True, transform=transform)\n",
    "testloader = torch.utils.data.DataLoader(test_data, batch_size=4, shuffle=False, num_workers=2)"
   ]
  },
  {
   "cell_type": "markdown",
   "id": "cb189026",
   "metadata": {},
   "source": [
    "## Exercise: Dataset preparation"
   ]
  },
  {
   "cell_type": "markdown",
   "id": "e57aaaa8",
   "metadata": {},
   "source": [
    "### Train - Test Split\n",
    "\n",
    "Write a function **train_test_split(dataset, ratio)** which takes a dataset as an input and returns two datasets one for training and another for testing.\n"
   ]
  },
  {
   "cell_type": "code",
   "execution_count": 8,
   "id": "f6b5f5e5",
   "metadata": {},
   "outputs": [],
   "source": [
    "def train_test_split(dataset, ratio):\n",
    "    X_train = []\n",
    "    y_train = []\n",
    "    X_test = []\n",
    "    y_test = []\n",
    "    indices = [i for i in range(len(dataset))]\n",
    "    np.random.shuffle(indices)\n",
    "    max_ind = int(ratio*len(dataset))\n",
    "    for i in range(max_ind):\n",
    "        X_train.append(dataset[indices[i]][0])\n",
    "        y_train.append(dataset[indices[i]][1])\n",
    "    for i in range(len(dataset)-max_ind):\n",
    "        X_test.append(dataset[indices[i+max_ind]][0])\n",
    "        y_test.append(dataset[indices[i+max_ind]][1])\n",
    "    return X_train, X_test, y_train, y_test"
   ]
  },
  {
   "cell_type": "code",
   "execution_count": 9,
   "id": "a2ed70b7-6e15-4b92-90dd-41b325a046b3",
   "metadata": {},
   "outputs": [],
   "source": [
    "X_train, X_test, y_train, y_test = train_test_split(dataset,0.8)"
   ]
  },
  {
   "cell_type": "markdown",
   "id": "685f7feb",
   "metadata": {},
   "source": [
    "--------------------------------"
   ]
  },
  {
   "cell_type": "markdown",
   "id": "910f160f",
   "metadata": {},
   "source": [
    "# FEATURE EXTRACTION\n",
    "\n",
    "Extract descriptros from the images in your train and test dataset. The dataset split should remain the same for all the experiments if you want to be fair when comparing performance."
   ]
  },
  {
   "cell_type": "markdown",
   "id": "7e8f0878",
   "metadata": {},
   "source": [
    "--------------------------------"
   ]
  },
  {
   "cell_type": "markdown",
   "id": "032fccdb",
   "metadata": {},
   "source": [
    "## Exercise: Feature 1 - RGB descriptors\n",
    "\n",
    "Following the code you implement in Assignment 1, extract R, G, and B descriptors from the images and concatenate them to create a 1D feature vector of 24 values."
   ]
  },
  {
   "cell_type": "code",
   "execution_count": 10,
   "id": "9f654967",
   "metadata": {},
   "outputs": [],
   "source": [
    "def make_descriptor(img):\n",
    "    img = np.array(img)\n",
    "    r = img[:,:,0]\n",
    "    g = img[:,:,1]\n",
    "    b = img[:,:,2]\n",
    "    r_bins = np.array(np.histogram(r,7)[1])\n",
    "    g_bins = np.array(np.histogram(g,7)[1])\n",
    "    b_bins = np.array(np.histogram(b,7)[1])\n",
    "    return(list(r_bins)+list(g_bins)+list(b_bins))"
   ]
  },
  {
   "cell_type": "code",
   "execution_count": 11,
   "id": "5e29bf76-00f0-4665-b0fa-25a2d832c5aa",
   "metadata": {},
   "outputs": [],
   "source": [
    "train_descriptors = []\n",
    "test_descriptors = []\n",
    "for i in range(len(X_train)):\n",
    "    train_descriptors.append(make_descriptor(X_train[i]))\n",
    "for i in range(len(X_test)):\n",
    "    test_descriptors.append(make_descriptor(X_test[i]))"
   ]
  },
  {
   "cell_type": "markdown",
   "id": "51372d11",
   "metadata": {
    "tags": []
   },
   "source": [
    "## Exercise: Feature 2 - Extract descriptors using pre-trained networks\n",
    "\n",
    "Load a pre-trained network to extract global features from the images. \n",
    "We will use the values of the last fully connected layer of the deep network as a descriptor, i.e. we will remove the last fully-connected layer. Therefore, after feed-forwarding the input through the network, we save the output as the descriptor of the image.\n",
    "\n",
    "You can use different networks for this purpose.\n",
    "\n",
    "Reading material to start with;\n",
    "\n",
    "https://pytorch.org/tutorials/beginner/transfer_learning_tutorial.html#sphx-glr-beginner-transfer-learning-tutorial-py\n",
    "\n",
    "https://medium.com/analytics-vidhya/cnn-transfer-learning-with-vgg-16-and-resnet-50-feature-extraction-for-image-retrieval-with-keras-53320c580853"
   ]
  },
  {
   "cell_type": "code",
   "execution_count": 12,
   "id": "a9618d68-6815-4ef7-812b-0e435fb4ebfc",
   "metadata": {},
   "outputs": [],
   "source": [
    "def imshow(inp, title=None):\n",
    "    inp = inp.numpy().transpose((1, 2, 0))\n",
    "    mean = np.array([0.49139968, 0.48215841, 0.44653091])\n",
    "    std = np.array([0.24703223, 0.24348513, 0.26158784])\n",
    "    inp = std * inp + mean\n",
    "    inp = np.clip(inp, 0, 1)\n",
    "    plt.imshow(inp)\n",
    "    if title is not None:\n",
    "        plt.title(title)\n",
    "    plt.pause(0.001)"
   ]
  },
  {
   "cell_type": "code",
   "execution_count": 13,
   "id": "8e04373c",
   "metadata": {},
   "outputs": [
    {
     "data": {
      "text/plain": [
       "AlexNet(\n",
       "  (features): Sequential(\n",
       "    (0): Conv2d(3, 64, kernel_size=(11, 11), stride=(4, 4), padding=(2, 2))\n",
       "    (1): ReLU(inplace=True)\n",
       "    (2): MaxPool2d(kernel_size=3, stride=2, padding=0, dilation=1, ceil_mode=False)\n",
       "    (3): Conv2d(64, 192, kernel_size=(5, 5), stride=(1, 1), padding=(2, 2))\n",
       "    (4): ReLU(inplace=True)\n",
       "    (5): MaxPool2d(kernel_size=3, stride=2, padding=0, dilation=1, ceil_mode=False)\n",
       "    (6): Conv2d(192, 384, kernel_size=(3, 3), stride=(1, 1), padding=(1, 1))\n",
       "    (7): ReLU(inplace=True)\n",
       "    (8): Conv2d(384, 256, kernel_size=(3, 3), stride=(1, 1), padding=(1, 1))\n",
       "    (9): ReLU(inplace=True)\n",
       "    (10): Conv2d(256, 256, kernel_size=(3, 3), stride=(1, 1), padding=(1, 1))\n",
       "    (11): ReLU(inplace=True)\n",
       "    (12): MaxPool2d(kernel_size=3, stride=2, padding=0, dilation=1, ceil_mode=False)\n",
       "  )\n",
       "  (avgpool): AdaptiveAvgPool2d(output_size=(6, 6))\n",
       "  (classifier): Sequential(\n",
       "    (0): Dropout(p=0.5, inplace=False)\n",
       "    (1): Linear(in_features=9216, out_features=4096, bias=True)\n",
       "    (2): ReLU(inplace=True)\n",
       "    (3): Dropout(p=0.5, inplace=False)\n",
       "    (4): Linear(in_features=4096, out_features=4096, bias=True)\n",
       "    (5): ReLU(inplace=True)\n",
       "    (6): Linear(in_features=4096, out_features=1000, bias=True)\n",
       "  )\n",
       ")"
      ]
     },
     "execution_count": 13,
     "metadata": {},
     "output_type": "execute_result"
    }
   ],
   "source": [
    "import torch.nn as nn\n",
    "from torchvision import models\n",
    "\n",
    "# [resnet, alexnet, vgg, squeezenet, densenet, inception]\n",
    "\n",
    "alexnet = models.alexnet(pretrained=True)\n",
    "alexnet.eval()"
   ]
  },
  {
   "cell_type": "code",
   "execution_count": 14,
   "id": "ee723401-da58-43e9-a1f4-86906f746c4d",
   "metadata": {},
   "outputs": [
    {
     "data": {
      "text/plain": [
       "AlexNet(\n",
       "  (features): Sequential(\n",
       "    (0): Conv2d(3, 64, kernel_size=(11, 11), stride=(4, 4), padding=(2, 2))\n",
       "    (1): ReLU(inplace=True)\n",
       "    (2): MaxPool2d(kernel_size=3, stride=2, padding=0, dilation=1, ceil_mode=False)\n",
       "    (3): Conv2d(64, 192, kernel_size=(5, 5), stride=(1, 1), padding=(2, 2))\n",
       "    (4): ReLU(inplace=True)\n",
       "    (5): MaxPool2d(kernel_size=3, stride=2, padding=0, dilation=1, ceil_mode=False)\n",
       "    (6): Conv2d(192, 384, kernel_size=(3, 3), stride=(1, 1), padding=(1, 1))\n",
       "    (7): ReLU(inplace=True)\n",
       "    (8): Conv2d(384, 256, kernel_size=(3, 3), stride=(1, 1), padding=(1, 1))\n",
       "    (9): ReLU(inplace=True)\n",
       "    (10): Conv2d(256, 256, kernel_size=(3, 3), stride=(1, 1), padding=(1, 1))\n",
       "    (11): ReLU(inplace=True)\n",
       "    (12): MaxPool2d(kernel_size=3, stride=2, padding=0, dilation=1, ceil_mode=False)\n",
       "  )\n",
       "  (avgpool): AdaptiveAvgPool2d(output_size=(6, 6))\n",
       "  (classifier): Sequential(\n",
       "    (0): Dropout(p=0.5, inplace=False)\n",
       "    (1): Linear(in_features=9216, out_features=4096, bias=True)\n",
       "    (2): ReLU(inplace=True)\n",
       "    (3): Dropout(p=0.5, inplace=False)\n",
       "    (4): Linear(in_features=4096, out_features=4096, bias=True)\n",
       "    (5): ReLU(inplace=True)\n",
       "  )\n",
       ")"
      ]
     },
     "execution_count": 14,
     "metadata": {},
     "output_type": "execute_result"
    }
   ],
   "source": [
    "new_alexnet = nn.Sequential(*list(alexnet.classifier.children())[:-1])\n",
    "alexnet.classifier = new_alexnet\n",
    "alexnet.eval()"
   ]
  },
  {
   "cell_type": "markdown",
   "id": "04c8e832",
   "metadata": {},
   "source": [
    "------------------------"
   ]
  },
  {
   "cell_type": "markdown",
   "id": "7599bb2b",
   "metadata": {},
   "source": [
    "# PERFORMANCE EVALUATION"
   ]
  },
  {
   "cell_type": "markdown",
   "id": "8304d19d",
   "metadata": {},
   "source": [
    "------------------------"
   ]
  },
  {
   "cell_type": "markdown",
   "id": "86a59fdf",
   "metadata": {},
   "source": [
    "## Exercise: Error function\n",
    "\n",
    "Implement a function to evaluate the accuracy of your prediction. \n",
    "We will rely on the evaluation metric accuracy.\n",
    "\n",
    "You are suggested to also use f-score, recall and precision. Have a look at https://scikit-learn.org/stable/modules/generated/sklearn.metrics.precision_recall_fscore_support.html "
   ]
  },
  {
   "cell_type": "markdown",
   "id": "b8067316-2173-4853-b120-e3c3a342cdf0",
   "metadata": {},
   "source": [
    "Let's use the following notations : \n",
    "- TP = True Positive\n",
    "- FP = False Positive\n",
    "- TN = True Negative\n",
    "- FN = False Negative"
   ]
  },
  {
   "cell_type": "markdown",
   "id": "1680e86d-0ee2-4ff4-b8b4-7c64ac357940",
   "metadata": {},
   "source": [
    "$$ accuracy = \\frac{TP + TN}{TP + TN + FP + FN} $$ \\\n",
    "$$ precision_i = \\frac{TP}{TP + FP} $$ \\\n",
    "$$ precision = \\frac{1}{n}\\sum_{i=1}^n precision_i $$ \\\n",
    "$$ recall_i = \\frac{TP}{TP + FN} $$ \\\n",
    "$$ recall = \\frac{1}{n}\\sum_{i=1}^n recall_i $$ \\\n",
    "$$ fscore = 2 \\cdot \\frac{recall \\cdot precision}{recall + precision} $$"
   ]
  },
  {
   "cell_type": "code",
   "execution_count": 15,
   "id": "3677bda7",
   "metadata": {},
   "outputs": [],
   "source": [
    "def accuracy_metric(actual, predicted):\n",
    "    return sum(np.equal(actual,predicted))/len(actual)"
   ]
  },
  {
   "cell_type": "code",
   "execution_count": 16,
   "id": "1dee4ec7-5942-4005-ad79-fd54d5213570",
   "metadata": {},
   "outputs": [],
   "source": [
    "def precision_metric(actual, predicted, n_classes=10):\n",
    "    p = 0\n",
    "    for i in range(n_classes):\n",
    "        actual = np.array(np.equal(actual, i), dtype=int)\n",
    "        predicted = np.array(np.equal(predicted, i), dtype=int)\n",
    "        tp = np.sum(np.equal(actual+predicted,2))\n",
    "        fp = np.sum(np.equal(predicted-actual,1))\n",
    "        if (tp != 0):\n",
    "            p += tp/(tp+fp)\n",
    "    return p/n_classes"
   ]
  },
  {
   "cell_type": "code",
   "execution_count": 17,
   "id": "eb0f6fed-49d9-4014-abb4-2ef3b5685a22",
   "metadata": {},
   "outputs": [],
   "source": [
    "def recall_metric(actual, predicted, n_classes=10):\n",
    "    r = 0\n",
    "    for i in range(n_classes):\n",
    "        actual = np.array(np.equal(actual, i), dtype=int)\n",
    "        predicted = np.array(np.equal(predicted, i), dtype=int)\n",
    "        tp = np.sum(np.equal(actual+predicted,2))\n",
    "        fn = np.sum(np.equal(predicted-actual,-1))\n",
    "        if (tp != 0):\n",
    "            r += tp/(tp+fn)\n",
    "    return r/n_classes"
   ]
  },
  {
   "cell_type": "code",
   "execution_count": 18,
   "id": "63259fe5-6504-4210-ae12-22d510e71f06",
   "metadata": {},
   "outputs": [],
   "source": [
    "def fscore_metric(actual, predicted, n_classes=10):\n",
    "    r = recall_metric(actual, predicted, n_classes)\n",
    "    p = precision_metric(actual, predicted, n_classes)\n",
    "    return 2*r*p/(r+p)"
   ]
  },
  {
   "cell_type": "markdown",
   "id": "549727ac",
   "metadata": {},
   "source": [
    "--------------------------------"
   ]
  },
  {
   "cell_type": "markdown",
   "id": "5b447784",
   "metadata": {},
   "source": [
    "# TRAIN AND TEST YOUR MODEL"
   ]
  },
  {
   "cell_type": "markdown",
   "id": "511c6375",
   "metadata": {},
   "source": [
    "--------------------------------"
   ]
  },
  {
   "cell_type": "markdown",
   "id": "ab251607",
   "metadata": {},
   "source": [
    "## Exercise: k Nearest Neighbour model\n",
    "\n",
    "Apply the classifier with different values of k (number of nearest neighbours) to the two sets of previously extracted descriptors (RGB and CNN features) and evaluate the performance of your models (accuracy).\n",
    "\n",
    "You can have a look at the documentation to understand the parameters that define the learning of the model,\n",
    "https://scikit-learn.org/stable/modules/neighbors.html\n"
   ]
  },
  {
   "cell_type": "markdown",
   "id": "cd3e657e-d5b4-46cf-a1eb-13188d057a53",
   "metadata": {},
   "source": [
    "### RGB features"
   ]
  },
  {
   "cell_type": "code",
   "execution_count": 19,
   "id": "1470832c",
   "metadata": {},
   "outputs": [],
   "source": [
    "from sklearn.neighbors import NearestNeighbors\n",
    "from sklearn.neighbors import KNeighborsClassifier\n",
    "import numpy as np"
   ]
  },
  {
   "cell_type": "code",
   "execution_count": 20,
   "id": "b90aba2a",
   "metadata": {},
   "outputs": [
    {
     "data": {
      "text/plain": [
       "[KNeighborsClassifier(n_neighbors=2),\n",
       " KNeighborsClassifier(n_neighbors=4),\n",
       " KNeighborsClassifier(n_neighbors=6),\n",
       " KNeighborsClassifier(n_neighbors=10),\n",
       " KNeighborsClassifier(n_neighbors=15)]"
      ]
     },
     "execution_count": 20,
     "metadata": {},
     "output_type": "execute_result"
    }
   ],
   "source": [
    "# Use your k-NN - play with the value of the parameters to see how the model performs\n",
    "kvalue_list = [2,4,6,10,15] \n",
    "neighbors = [KNeighborsClassifier(n_neighbors=kvalue_list[i]).fit(train_descriptors,y_train) for i in range(len(kvalue_list))]\n",
    "neighbors"
   ]
  },
  {
   "cell_type": "code",
   "execution_count": 21,
   "id": "fc108288-359b-48ad-ae76-42400fa6d738",
   "metadata": {},
   "outputs": [],
   "source": [
    "pred = [neighbors[i].predict(test_descriptors) for i in range(len(neighbors))]"
   ]
  },
  {
   "cell_type": "code",
   "execution_count": 22,
   "id": "5529dacd-fc61-438e-9c32-5e7d5b407ddd",
   "metadata": {},
   "outputs": [
    {
     "data": {
      "image/png": "[encoded data removed]",
      "text/plain": [
       "<Figure size 432x288 with 1 Axes>"
      ]
     },
     "metadata": {
      "needs_background": "light"
     },
     "output_type": "display_data"
    }
   ],
   "source": [
    "acc = [accuracy_metric(y_test,pred[i]) for i in range(len(pred))]\n",
    "plt.plot(kvalue_list,acc)\n",
    "plt.show()"
   ]
  },
  {
   "cell_type": "code",
   "execution_count": 23,
   "id": "ab9af70d-ae70-4a57-b719-b363ed5b481d",
   "metadata": {},
   "outputs": [
    {
     "data": {
      "text/plain": [
       "[0.1588, 0.1737, 0.1852, 0.1957, 0.1962]"
      ]
     },
     "execution_count": 23,
     "metadata": {},
     "output_type": "execute_result"
    }
   ],
   "source": [
    "acc"
   ]
  },
  {
   "cell_type": "markdown",
   "id": "c837ea76-d167-4f10-8868-a2ecc141beeb",
   "metadata": {},
   "source": [
    "### CNN features"
   ]
  },
  {
   "cell_type": "code",
   "execution_count": 24,
   "id": "1255be18-d536-4b74-87c8-f3d3367cccaf",
   "metadata": {},
   "outputs": [
    {
     "data": {
      "text/plain": [
       "AlexNet(\n",
       "  (features): Sequential(\n",
       "    (0): Conv2d(3, 64, kernel_size=(11, 11), stride=(4, 4), padding=(2, 2))\n",
       "    (1): ReLU(inplace=True)\n",
       "    (2): MaxPool2d(kernel_size=3, stride=2, padding=0, dilation=1, ceil_mode=False)\n",
       "    (3): Conv2d(64, 192, kernel_size=(5, 5), stride=(1, 1), padding=(2, 2))\n",
       "    (4): ReLU(inplace=True)\n",
       "    (5): MaxPool2d(kernel_size=3, stride=2, padding=0, dilation=1, ceil_mode=False)\n",
       "    (6): Conv2d(192, 384, kernel_size=(3, 3), stride=(1, 1), padding=(1, 1))\n",
       "    (7): ReLU(inplace=True)\n",
       "    (8): Conv2d(384, 256, kernel_size=(3, 3), stride=(1, 1), padding=(1, 1))\n",
       "    (9): ReLU(inplace=True)\n",
       "    (10): Conv2d(256, 256, kernel_size=(3, 3), stride=(1, 1), padding=(1, 1))\n",
       "    (11): ReLU(inplace=True)\n",
       "    (12): MaxPool2d(kernel_size=3, stride=2, padding=0, dilation=1, ceil_mode=False)\n",
       "  )\n",
       "  (avgpool): AdaptiveAvgPool2d(output_size=(6, 6))\n",
       "  (classifier): Sequential(\n",
       "    (0): Dropout(p=0.5, inplace=False)\n",
       "    (1): Linear(in_features=9216, out_features=4096, bias=True)\n",
       "    (2): ReLU(inplace=True)\n",
       "    (3): Dropout(p=0.5, inplace=False)\n",
       "    (4): Linear(in_features=4096, out_features=4096, bias=True)\n",
       "    (5): ReLU(inplace=True)\n",
       "  )\n",
       ")"
      ]
     },
     "execution_count": 24,
     "metadata": {},
     "output_type": "execute_result"
    }
   ],
   "source": [
    "device = torch.device(\"cuda:0\" if torch.cuda.is_available() else \"cpu\")\n",
    "alexnet.to(device)"
   ]
  },
  {
   "cell_type": "code",
   "execution_count": 25,
   "id": "f4fb7c4a-3781-4ef2-928b-ca0ad82bf85e",
   "metadata": {},
   "outputs": [],
   "source": [
    "import torch.optim as optim\n",
    "\n",
    "criterion = nn.CrossEntropyLoss()\n",
    "optimizer = optim.SGD(alexnet.parameters(), lr=0.001, momentum=0.9)"
   ]
  },
  {
   "cell_type": "code",
   "execution_count": 26,
   "id": "e6165b8b-fd5b-4516-af15-325516e2a752",
   "metadata": {},
   "outputs": [
    {
     "name": "stderr",
     "output_type": "stream",
     "text": [
      "/home/jovyan/.local/lib/python3.8/site-packages/torch/nn/functional.py:718: UserWarning: Named tensors and all their associated APIs are an experimental feature and subject to change. Please do not use them for anything important until they are released as stable. (Triggered internally at  /pytorch/c10/core/TensorImpl.h:1156.)\n",
      "  return torch.max_pool2d(input, kernel_size, stride, padding, dilation, ceil_mode)\n"
     ]
    },
    {
     "name": "stdout",
     "output_type": "stream",
     "text": [
      "Done\n"
     ]
    }
   ],
   "source": [
    "running_loss = 0.0\n",
    "for i, data in enumerate(trainloader, 0):\n",
    "    inputs, labels = data[0].to(device), data[1].to(device)\n",
    "    optimizer.zero_grad()\n",
    "    output = alexnet(inputs)\n",
    "    loss = criterion(output, labels)\n",
    "    loss.backward()\n",
    "    optimizer.step()\n",
    "print('Done')"
   ]
  },
  {
   "cell_type": "code",
   "execution_count": 27,
   "id": "dbe4f56d-654c-42a6-845f-c6b3607aefea",
   "metadata": {},
   "outputs": [
    {
     "name": "stdout",
     "output_type": "stream",
     "text": [
      "Accuracy of Alexnet algorithm over the testset of 2500 images : 75.35%.\n"
     ]
    }
   ],
   "source": [
    "correct = 0\n",
    "total = 0\n",
    "with torch.no_grad():\n",
    "    for data in testloader:\n",
    "        images, labels = data[0].to(device), data[1].to(device)\n",
    "        outputs = alexnet(images)\n",
    "        _, predicted = torch.max(outputs.data, 1)\n",
    "        total += labels.size(0)\n",
    "        correct += (predicted == labels).sum().item()\n",
    "\n",
    "print(\"Accuracy of Alexnet algorithm over the testset of {} images : {}%.\".format(len(testloader), 100*correct/total))"
   ]
  },
  {
   "cell_type": "markdown",
   "id": "48c0418d-fea4-4be7-bc64-b12aa1a4878c",
   "metadata": {},
   "source": [
    "The accuracy could be increased if we added more epochs (here there is only one)."
   ]
  },
  {
   "cell_type": "code",
   "execution_count": 28,
   "id": "06ab9440-2a74-4f3e-afd1-91b1d3619ff6",
   "metadata": {},
   "outputs": [],
   "source": [
    "def visualize_model(model, num_images=6):\n",
    "    was_training = model.training\n",
    "    model.eval()\n",
    "    images_so_far = 0\n",
    "    fig = plt.figure()\n",
    "    with torch.no_grad():\n",
    "        for (i, data) in enumerate(testloader, 0):\n",
    "            inputs, labels = data[0].to(device), data[1].to(device)\n",
    "            outputs = model(inputs)\n",
    "            _, preds = torch.max(outputs, 1)\n",
    "\n",
    "            for j in range(inputs.size()[0]):\n",
    "                images_so_far += 1\n",
    "                ax = plt.subplot(num_images//2, 2, images_so_far)\n",
    "                ax.axis('off')\n",
    "                ax.set_title('predicted: {}'.format(classes[preds[j]]))\n",
    "                imshow(inputs.cpu().data[j])\n",
    "\n",
    "                if images_so_far == num_images:\n",
    "                    model.train(mode=was_training)\n",
    "                    return\n",
    "        model.train(mode=was_training)"
   ]
  },
  {
   "cell_type": "code",
   "execution_count": 29,
   "id": "61999298-2f5b-4109-a9b5-77cef0c43060",
   "metadata": {},
   "outputs": [
    {
     "data": {
      "image/png": "[encoded data removed]",
      "text/plain": [
       "<Figure size 432x288 with 1 Axes>"
      ]
     },
     "metadata": {
      "needs_background": "light"
     },
     "output_type": "display_data"
    },
    {
     "data": {
      "image/png": "[encoded data removed]",
      "text/plain": [
       "<Figure size 432x288 with 1 Axes>"
      ]
     },
     "metadata": {
      "needs_background": "light"
     },
     "output_type": "display_data"
    },
    {
     "data": {
      "image/png": "[encoded data removed]",
      "text/plain": [
       "<Figure size 432x288 with 1 Axes>"
      ]
     },
     "metadata": {
      "needs_background": "light"
     },
     "output_type": "display_data"
    },
    {
     "data": {
      "image/png": "[encoded data removed]",
      "text/plain": [
       "<Figure size 432x288 with 1 Axes>"
      ]
     },
     "metadata": {
      "needs_background": "light"
     },
     "output_type": "display_data"
    },
    {
     "data": {
      "image/png": "[encoded data removed]",
      "text/plain": [
       "<Figure size 432x288 with 1 Axes>"
      ]
     },
     "metadata": {
      "needs_background": "light"
     },
     "output_type": "display_data"
    },
    {
     "data": {
      "image/png": "[encoded data removed]",
      "text/plain": [
       "<Figure size 432x288 with 1 Axes>"
      ]
     },
     "metadata": {
      "needs_background": "light"
     },
     "output_type": "display_data"
    }
   ],
   "source": [
    "visualize_model(alexnet)"
   ]
  },
  {
   "cell_type": "markdown",
   "id": "34e94c23",
   "metadata": {},
   "source": [
    "## Exercise: Visualize results \n",
    "\n",
    "Steps to follow:\n",
    "\n",
    "1) Apply PCA and select the 2 first principal components to represent each sample.\n",
    "\n",
    "2) Plot the samples with dots. Use a colour per class. \n",
    "\n",
    "3) Plot the samples again but with empty filled circles. Use the color of the class predicted per sample (misclassifications will make the colours not coincide).\n",
    "\n",
    "You can do this for (1) training and (2) test set. In (1) you can see how well the method fits the training data and (2) will give you an idea of the misclassifications."
   ]
  },
  {
   "cell_type": "code",
   "execution_count": 28,
   "id": "c5c1cc4c",
   "metadata": {},
   "outputs": [],
   "source": [
    "# your code here"
   ]
  },
  {
   "cell_type": "markdown",
   "id": "e77cbfb5",
   "metadata": {},
   "source": [
    "## Exercise: kNN with k-Fold cross-validation\n",
    "\n",
    "Assess the performance of your implemented kNN using k-Fold cross-validation. \n",
    "\n",
    "Run your implemented function evaluating for k (fold) = 2, 5 and 10. You can rely on the kNN that performed best in the previous exercises.\n",
    "Report the average accuracy and the standard deviation."
   ]
  },
  {
   "cell_type": "code",
   "execution_count": 30,
   "id": "3f603d90",
   "metadata": {},
   "outputs": [
    {
     "data": {
      "text/plain": [
       "[[0.19932, 0.20192],\n",
       " [0.2013, 0.2008, 0.2073, 0.205, 0.1992],\n",
       " [0.1968,\n",
       "  0.2012,\n",
       "  0.2104,\n",
       "  0.2004,\n",
       "  0.2028,\n",
       "  0.2084,\n",
       "  0.2092,\n",
       "  0.2014,\n",
       "  0.207,\n",
       "  0.1968]]"
      ]
     },
     "execution_count": 30,
     "metadata": {},
     "output_type": "execute_result"
    }
   ],
   "source": [
    "# Load packages\n",
    "from sklearn.model_selection import KFold\n",
    "import numpy as np\n",
    "from sklearn.utils import shuffle\n",
    "from sklearn.metrics import accuracy_score\n",
    "\n",
    "ks = [2, 5, 10]\n",
    "\n",
    "model = neighbors[-1]\n",
    "\n",
    "acc_scores = [[],[],[]]\n",
    "\n",
    "X = [d[0] for d in dataset]\n",
    "X = np.array([make_descriptor(img) for img in X])\n",
    "y = np.array([d[1] for d in dataset])\n",
    "\n",
    "for i in range(len(ks)):\n",
    "    kf = KFold(n_splits=ks[i])\n",
    "\n",
    "    for train_index, test_index in kf.split(X):\n",
    "        X_train, X_test = X[train_index], X[test_index]\n",
    "        y_train, y_test = y[train_index], y[test_index]\n",
    "\n",
    "        model.fit(X_train, y_train)\n",
    "        pred_values = model.predict(X_test)\n",
    "        acc = accuracy_score(pred_values, y_test)\n",
    "        acc_scores[i].append(np.average(acc))\n",
    "\n",
    "acc_scores"
   ]
  },
  {
   "cell_type": "code",
   "execution_count": 32,
   "id": "ba435dbf",
   "metadata": {},
   "outputs": [
    {
     "name": "stdout",
     "output_type": "stream",
     "text": [
      "Summary results:\n",
      " \n",
      " \n",
      "2 -fold cross validation:\n",
      "Accuracies per fold:  [0.19932, 0.20192]\n",
      "Average accuracy:  0.2 +- 0.0\n",
      " \n",
      "5 -fold cross validation:\n",
      "Accuracies per fold:  [0.2013, 0.2008, 0.2073, 0.205, 0.1992]\n",
      "Average accuracy:  0.2 +- 0.0\n",
      " \n",
      "10 -fold cross validation:\n",
      "Accuracies per fold:  [0.1968, 0.2012, 0.2104, 0.2004, 0.2028, 0.2084, 0.2092, 0.2014, 0.207, 0.1968]\n",
      "Average accuracy:  0.2 +- 0.0\n",
      " \n"
     ]
    }
   ],
   "source": [
    "## SUGGESTION ON HOW TO PRESENT PERFORMANCE OF YOUR KFOLD CROSS VALIDATION ANALYSIS\n",
    "\n",
    "print('Summary results:')\n",
    "print(' ')\n",
    "print(' ')\n",
    "for i,k in enumerate(ks):\n",
    "    print(k,'-fold cross validation:')  \n",
    "    print('Accuracies per fold: ', acc_scores[i]) \n",
    "\n",
    "    avg_acc = round(sum(acc_scores[i])/k,2)\n",
    "    std_list= round(np.std(acc_scores[i]),2)\n",
    "    print('Average accuracy: ', avg_acc,'+-', std_list) \n",
    "    print(' ')"
   ]
  },
  {
   "cell_type": "markdown",
   "id": "2fcf70eb",
   "metadata": {},
   "source": [
    "### [Optional] Exercise: further explore by: \n",
    "- implement other classifiers such as SVM or Random Forest, \n",
    "- extract other descriptors from the images such as objects or other local features,\n",
    "- implement the evaluation metrics: recall, precission and f-score."
   ]
  },
  {
   "cell_type": "code",
   "execution_count": null,
   "id": "82b69360",
   "metadata": {},
   "outputs": [],
   "source": []
  }
 ],
 "metadata": {
  "kernelspec": {
   "display_name": "Python",
   "language": "python",
   "name": "python3"
  },
  "language_info": {
   "codemirror_mode": {
    "name": "ipython",
    "version": 3
   },
   "file_extension": ".py",
   "mimetype": "text/x-python",
   "name": "python",
   "nbconvert_exporter": "python",
   "pygments_lexer": "ipython3",
   "version": "3.8.10"
  }
 },
 "nbformat": 4,
 "nbformat_minor": 5
}
