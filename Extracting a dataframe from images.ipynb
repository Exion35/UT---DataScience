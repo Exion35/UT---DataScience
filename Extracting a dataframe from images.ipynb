{
 "cells": [
  {
   "cell_type": "code",
   "execution_count": 1,
   "id": "0f6e22ca-114f-49a0-ab16-5c3c0fd1cc27",
   "metadata": {},
   "outputs": [],
   "source": [
    "import torch\n",
    "import torchvision\n",
    "import torchvision.transforms as transforms\n",
    "import matplotlib.pyplot as plt\n",
    "import numpy as np\n",
    "import pandas as pd\n",
    "import seaborn as sns\n",
    "import os\n",
    "from PIL import Image\n",
    "from PIL import UnidentifiedImageError\n",
    "from skimage import color"
   ]
  },
  {
   "cell_type": "code",
   "execution_count": 2,
   "id": "09f0ecb4-1ffc-4810-9b8d-3f7e2eb88d64",
   "metadata": {},
   "outputs": [
    {
     "name": "stdout",
     "output_type": "stream",
     "text": [
      "['ice storm', 'car accident', 'oil spill', 'wildfire', 'earthquake', 'airplane accident', 'volcanic eruption', 'collapsed', 'tornado', 'nuclear explosion', 'bicycle accident', 'flooded']\n"
     ]
    }
   ],
   "source": [
    "main_path = \"datasets/incidents/\"\n",
    "classes = os.listdir(main_path)\n",
    "classes = classes[1:]\n",
    "print(classes)"
   ]
  },
  {
   "cell_type": "code",
   "execution_count": 3,
   "id": "c0f81926-32b2-4eb6-9214-f6325a8d8039",
   "metadata": {},
   "outputs": [],
   "source": [
    "images = []\n",
    "images_error = []\n",
    "paths = [main_path + classes[i] + '/' for i in range(len(classes))]\n",
    "\n",
    "for p in paths:\n",
    "    for path, dirs, files in os.walk(p):\n",
    "        for filename in files:\n",
    "            try:\n",
    "              im = Image.open(p + filename)\n",
    "              images.append([im,paths.index(p)])\n",
    "            except UnidentifiedImageError:\n",
    "              images_error.append(p + filename) "
   ]
  },
  {
   "cell_type": "code",
   "execution_count": 4,
   "id": "ffd9a23c-efc3-4fee-939b-87dadb4bb286",
   "metadata": {},
   "outputs": [
    {
     "data": {
      "text/html": [
       "<div>\n",
       "<style scoped>\n",
       "    .dataframe tbody tr th:only-of-type {\n",
       "        vertical-align: middle;\n",
       "    }\n",
       "\n",
       "    .dataframe tbody tr th {\n",
       "        vertical-align: top;\n",
       "    }\n",
       "\n",
       "    .dataframe thead th {\n",
       "        text-align: right;\n",
       "    }\n",
       "</style>\n",
       "<table border=\"1\" class=\"dataframe\">\n",
       "  <thead>\n",
       "    <tr style=\"text-align: right;\">\n",
       "      <th></th>\n",
       "      <th>Images</th>\n",
       "      <th>Labels</th>\n",
       "    </tr>\n",
       "  </thead>\n",
       "  <tbody>\n",
       "    <tr>\n",
       "      <th>0</th>\n",
       "      <td>&lt;PIL.JpegImagePlugin.JpegImageFile image mode=...</td>\n",
       "      <td>0</td>\n",
       "    </tr>\n",
       "    <tr>\n",
       "      <th>1</th>\n",
       "      <td>&lt;PIL.JpegImagePlugin.JpegImageFile image mode=...</td>\n",
       "      <td>0</td>\n",
       "    </tr>\n",
       "    <tr>\n",
       "      <th>2</th>\n",
       "      <td>&lt;PIL.JpegImagePlugin.JpegImageFile image mode=...</td>\n",
       "      <td>0</td>\n",
       "    </tr>\n",
       "    <tr>\n",
       "      <th>3</th>\n",
       "      <td>&lt;PIL.JpegImagePlugin.JpegImageFile image mode=...</td>\n",
       "      <td>0</td>\n",
       "    </tr>\n",
       "    <tr>\n",
       "      <th>4</th>\n",
       "      <td>&lt;PIL.JpegImagePlugin.JpegImageFile image mode=...</td>\n",
       "      <td>0</td>\n",
       "    </tr>\n",
       "    <tr>\n",
       "      <th>...</th>\n",
       "      <td>...</td>\n",
       "      <td>...</td>\n",
       "    </tr>\n",
       "    <tr>\n",
       "      <th>7353</th>\n",
       "      <td>&lt;PIL.PngImagePlugin.PngImageFile image mode=RG...</td>\n",
       "      <td>11</td>\n",
       "    </tr>\n",
       "    <tr>\n",
       "      <th>7354</th>\n",
       "      <td>&lt;PIL.JpegImagePlugin.JpegImageFile image mode=...</td>\n",
       "      <td>11</td>\n",
       "    </tr>\n",
       "    <tr>\n",
       "      <th>7355</th>\n",
       "      <td>&lt;PIL.JpegImagePlugin.JpegImageFile image mode=...</td>\n",
       "      <td>11</td>\n",
       "    </tr>\n",
       "    <tr>\n",
       "      <th>7356</th>\n",
       "      <td>&lt;PIL.JpegImagePlugin.JpegImageFile image mode=...</td>\n",
       "      <td>11</td>\n",
       "    </tr>\n",
       "    <tr>\n",
       "      <th>7357</th>\n",
       "      <td>&lt;PIL.JpegImagePlugin.JpegImageFile image mode=...</td>\n",
       "      <td>11</td>\n",
       "    </tr>\n",
       "  </tbody>\n",
       "</table>\n",
       "<p>7358 rows × 2 columns</p>\n",
       "</div>"
      ],
      "text/plain": [
       "                                                 Images  Labels\n",
       "0     <PIL.JpegImagePlugin.JpegImageFile image mode=...       0\n",
       "1     <PIL.JpegImagePlugin.JpegImageFile image mode=...       0\n",
       "2     <PIL.JpegImagePlugin.JpegImageFile image mode=...       0\n",
       "3     <PIL.JpegImagePlugin.JpegImageFile image mode=...       0\n",
       "4     <PIL.JpegImagePlugin.JpegImageFile image mode=...       0\n",
       "...                                                 ...     ...\n",
       "7353  <PIL.PngImagePlugin.PngImageFile image mode=RG...      11\n",
       "7354  <PIL.JpegImagePlugin.JpegImageFile image mode=...      11\n",
       "7355  <PIL.JpegImagePlugin.JpegImageFile image mode=...      11\n",
       "7356  <PIL.JpegImagePlugin.JpegImageFile image mode=...      11\n",
       "7357  <PIL.JpegImagePlugin.JpegImageFile image mode=...      11\n",
       "\n",
       "[7358 rows x 2 columns]"
      ]
     },
     "execution_count": 4,
     "metadata": {},
     "output_type": "execute_result"
    }
   ],
   "source": [
    "df = pd.DataFrame(images, columns=['Images', 'Labels'])\n",
    "df"
   ]
  },
  {
   "cell_type": "code",
   "execution_count": 5,
   "id": "f43d091d-ab50-46fc-902d-318312c1b19f",
   "metadata": {},
   "outputs": [
    {
     "data": {
      "image/png": "[encoded data removed]",
      "text/plain": [
       "<Figure size 1440x504 with 1 Axes>"
      ]
     },
     "metadata": {
      "needs_background": "light"
     },
     "output_type": "display_data"
    }
   ],
   "source": [
    "fig, ax = plt.subplots(1,1,figsize=(20,7))\n",
    "rects = plt.bar(classes,df[\"Labels\"].value_counts().sort_index())\n",
    "\n",
    "def autolabel(rects):\n",
    "    for rect in rects:\n",
    "        height = rect.get_height()\n",
    "        ax.text(rect.get_x()+rect.get_width()/2., 1.01*height, '%d'%int(height),\n",
    "                ha='center', va='bottom')\n",
    " \n",
    "autolabel(rects)\n",
    "\n",
    "def gradientbars_sliced(bars):\n",
    "    ax = bars[0].axes\n",
    "    xmin, xmax = ax.get_xlim()\n",
    "    ymin, ymax = ax.get_ylim()\n",
    "    for bar in bars:\n",
    "        bar.set_zorder(1)\n",
    "        bar.set_facecolor(\"none\")\n",
    "        x, y = bar.get_xy()\n",
    "        w, h = bar.get_width(), bar.get_height()\n",
    "        grad = np.linspace(y, y + h, 256).reshape(256, 1)\n",
    "        ax.imshow(grad, extent=[x, x + w, y, y + h], aspect=\"auto\", zorder=0, origin='lower',\n",
    "                  vmin=ymin, vmax=ymax, cmap='magma')\n",
    "    ax.axis([xmin, xmax, ymin, ymax])\n",
    "\n",
    "gradientbars_sliced(rects)\n",
    "plt.show()"
   ]
  },
  {
   "cell_type": "code",
   "execution_count": 6,
   "id": "8b55b46e-9467-477b-8382-4922d421e85a",
   "metadata": {},
   "outputs": [],
   "source": [
    "class_counts = df[\"Labels\"].value_counts()\n",
    "samples_class = [df[df[\"Labels\"] == i] for i in range(len(classes))]"
   ]
  },
  {
   "cell_type": "code",
   "execution_count": 7,
   "id": "64509d77-b81e-4d32-8024-19bd8daa673f",
   "metadata": {},
   "outputs": [],
   "source": [
    "classes_under = [samples_class[i].sample(df[df[\"Labels\"] == classes.index(\"bicycle accident\")].shape[0]) for i in range(len(classes))]\n",
    "under_df = pd.concat(classes_under,axis=0).reset_index()"
   ]
  },
  {
   "cell_type": "code",
   "execution_count": 8,
   "id": "eaea53a6-d488-4c59-b87d-182d3f8642c7",
   "metadata": {},
   "outputs": [
    {
     "data": {
      "image/png": "[encoded data removed]",
      "text/plain": [
       "<Figure size 1440x504 with 1 Axes>"
      ]
     },
     "metadata": {
      "needs_background": "light"
     },
     "output_type": "display_data"
    }
   ],
   "source": [
    "fig, ax = plt.subplots(1,1,figsize=(20,7))\n",
    "rects = plt.bar(classes,under_df[\"Labels\"].value_counts().sort_index())\n",
    "autolabel(rects)\n",
    "gradientbars_sliced(rects)\n",
    "plt.show()"
   ]
  },
  {
   "cell_type": "code",
   "execution_count": 9,
   "id": "ddff9f29-6848-443f-9d8e-013ccdd2be85",
   "metadata": {},
   "outputs": [],
   "source": [
    "for i in range(len(images)):\n",
    "    images[i][0] = images[i][0].resize((256,256), Image.NEAREST)"
   ]
  },
  {
   "cell_type": "code",
   "execution_count": 10,
   "id": "bf4d7729-9795-4045-8252-73e3bdc01308",
   "metadata": {},
   "outputs": [],
   "source": [
    "for i in range(len(images)):\n",
    "    images[i][0] = np.array(images[i][0])"
   ]
  },
  {
   "cell_type": "code",
   "execution_count": 11,
   "id": "50321863-dd88-4b39-aa5c-29d47a5842f4",
   "metadata": {},
   "outputs": [
    {
     "data": {
      "text/html": [
       "<div>\n",
       "<style scoped>\n",
       "    .dataframe tbody tr th:only-of-type {\n",
       "        vertical-align: middle;\n",
       "    }\n",
       "\n",
       "    .dataframe tbody tr th {\n",
       "        vertical-align: top;\n",
       "    }\n",
       "\n",
       "    .dataframe thead th {\n",
       "        text-align: right;\n",
       "    }\n",
       "</style>\n",
       "<table border=\"1\" class=\"dataframe\">\n",
       "  <thead>\n",
       "    <tr style=\"text-align: right;\">\n",
       "      <th></th>\n",
       "      <th>Images</th>\n",
       "      <th>Labels</th>\n",
       "    </tr>\n",
       "  </thead>\n",
       "  <tbody>\n",
       "    <tr>\n",
       "      <th>0</th>\n",
       "      <td>[[[61, 63, 62], [52, 54, 53], [52, 54, 53], [6...</td>\n",
       "      <td>0</td>\n",
       "    </tr>\n",
       "    <tr>\n",
       "      <th>1</th>\n",
       "      <td>[[[66, 64, 65], [60, 60, 68], [111, 114, 129],...</td>\n",
       "      <td>0</td>\n",
       "    </tr>\n",
       "    <tr>\n",
       "      <th>2</th>\n",
       "      <td>[[[66, 59, 53], [36, 35, 30], [39, 34, 30], [3...</td>\n",
       "      <td>0</td>\n",
       "    </tr>\n",
       "    <tr>\n",
       "      <th>3</th>\n",
       "      <td>[[[1, 1, 0], [0, 0, 12], [0, 2, 7], [0, 1, 7],...</td>\n",
       "      <td>0</td>\n",
       "    </tr>\n",
       "    <tr>\n",
       "      <th>4</th>\n",
       "      <td>[[[75, 74, 69], [57, 56, 54], [105, 103, 104],...</td>\n",
       "      <td>0</td>\n",
       "    </tr>\n",
       "    <tr>\n",
       "      <th>...</th>\n",
       "      <td>...</td>\n",
       "      <td>...</td>\n",
       "    </tr>\n",
       "    <tr>\n",
       "      <th>7353</th>\n",
       "      <td>[[[157, 175, 197, 255], [157, 175, 197, 255], ...</td>\n",
       "      <td>11</td>\n",
       "    </tr>\n",
       "    <tr>\n",
       "      <th>7354</th>\n",
       "      <td>[[[231, 231, 229], [228, 230, 229], [225, 229,...</td>\n",
       "      <td>11</td>\n",
       "    </tr>\n",
       "    <tr>\n",
       "      <th>7355</th>\n",
       "      <td>[[[222, 249, 255], [223, 248, 255], [230, 249,...</td>\n",
       "      <td>11</td>\n",
       "    </tr>\n",
       "    <tr>\n",
       "      <th>7356</th>\n",
       "      <td>[[[209, 207, 208], [209, 207, 208], [207, 205,...</td>\n",
       "      <td>11</td>\n",
       "    </tr>\n",
       "    <tr>\n",
       "      <th>7357</th>\n",
       "      <td>[[[230, 232, 229], [230, 232, 229], [231, 233,...</td>\n",
       "      <td>11</td>\n",
       "    </tr>\n",
       "  </tbody>\n",
       "</table>\n",
       "<p>7358 rows × 2 columns</p>\n",
       "</div>"
      ],
      "text/plain": [
       "                                                 Images  Labels\n",
       "0     [[[61, 63, 62], [52, 54, 53], [52, 54, 53], [6...       0\n",
       "1     [[[66, 64, 65], [60, 60, 68], [111, 114, 129],...       0\n",
       "2     [[[66, 59, 53], [36, 35, 30], [39, 34, 30], [3...       0\n",
       "3     [[[1, 1, 0], [0, 0, 12], [0, 2, 7], [0, 1, 7],...       0\n",
       "4     [[[75, 74, 69], [57, 56, 54], [105, 103, 104],...       0\n",
       "...                                                 ...     ...\n",
       "7353  [[[157, 175, 197, 255], [157, 175, 197, 255], ...      11\n",
       "7354  [[[231, 231, 229], [228, 230, 229], [225, 229,...      11\n",
       "7355  [[[222, 249, 255], [223, 248, 255], [230, 249,...      11\n",
       "7356  [[[209, 207, 208], [209, 207, 208], [207, 205,...      11\n",
       "7357  [[[230, 232, 229], [230, 232, 229], [231, 233,...      11\n",
       "\n",
       "[7358 rows x 2 columns]"
      ]
     },
     "execution_count": 11,
     "metadata": {},
     "output_type": "execute_result"
    }
   ],
   "source": [
    "new_df = pd.DataFrame(images, columns=['Images', 'Labels'])\n",
    "new_df"
   ]
  },
  {
   "cell_type": "code",
   "execution_count": 12,
   "id": "289e2a0c-9fa7-428e-a116-14db9b7f3e4a",
   "metadata": {},
   "outputs": [],
   "source": [
    "for i in range(len(images)):\n",
    "    if (len(images[i][0].shape) == 3):\n",
    "        if (images[i][0].shape[2] == 4):\n",
    "            images[i][0] = color.rgba2rgb(images[i][0])\n",
    "    else:\n",
    "        images[i][0] = color.gray2rgb(images[i][0])"
   ]
  },
  {
   "cell_type": "code",
   "execution_count": 13,
   "id": "bd4c5977-f69b-440f-a04e-f1a235dcf4e3",
   "metadata": {},
   "outputs": [],
   "source": [
    "final_df = pd.DataFrame(images, columns=['Images', 'Labels'])"
   ]
  },
  {
   "cell_type": "code",
   "execution_count": 14,
   "id": "d215d956-9a09-4060-aad5-03859294761e",
   "metadata": {},
   "outputs": [
    {
     "data": {
      "text/html": [
       "<div>\n",
       "<style scoped>\n",
       "    .dataframe tbody tr th:only-of-type {\n",
       "        vertical-align: middle;\n",
       "    }\n",
       "\n",
       "    .dataframe tbody tr th {\n",
       "        vertical-align: top;\n",
       "    }\n",
       "\n",
       "    .dataframe thead th {\n",
       "        text-align: right;\n",
       "    }\n",
       "</style>\n",
       "<table border=\"1\" class=\"dataframe\">\n",
       "  <thead>\n",
       "    <tr style=\"text-align: right;\">\n",
       "      <th></th>\n",
       "      <th>Images</th>\n",
       "      <th>Labels</th>\n",
       "    </tr>\n",
       "  </thead>\n",
       "  <tbody>\n",
       "    <tr>\n",
       "      <th>0</th>\n",
       "      <td>[[[61, 63, 62], [52, 54, 53], [52, 54, 53], [6...</td>\n",
       "      <td>0</td>\n",
       "    </tr>\n",
       "    <tr>\n",
       "      <th>1</th>\n",
       "      <td>[[[66, 64, 65], [60, 60, 68], [111, 114, 129],...</td>\n",
       "      <td>0</td>\n",
       "    </tr>\n",
       "    <tr>\n",
       "      <th>2</th>\n",
       "      <td>[[[66, 59, 53], [36, 35, 30], [39, 34, 30], [3...</td>\n",
       "      <td>0</td>\n",
       "    </tr>\n",
       "    <tr>\n",
       "      <th>3</th>\n",
       "      <td>[[[1, 1, 0], [0, 0, 12], [0, 2, 7], [0, 1, 7],...</td>\n",
       "      <td>0</td>\n",
       "    </tr>\n",
       "    <tr>\n",
       "      <th>4</th>\n",
       "      <td>[[[75, 74, 69], [57, 56, 54], [105, 103, 104],...</td>\n",
       "      <td>0</td>\n",
       "    </tr>\n",
       "    <tr>\n",
       "      <th>...</th>\n",
       "      <td>...</td>\n",
       "      <td>...</td>\n",
       "    </tr>\n",
       "    <tr>\n",
       "      <th>7353</th>\n",
       "      <td>[[[0.615686274509804, 0.6862745098039216, 0.77...</td>\n",
       "      <td>11</td>\n",
       "    </tr>\n",
       "    <tr>\n",
       "      <th>7354</th>\n",
       "      <td>[[[231, 231, 229], [228, 230, 229], [225, 229,...</td>\n",
       "      <td>11</td>\n",
       "    </tr>\n",
       "    <tr>\n",
       "      <th>7355</th>\n",
       "      <td>[[[222, 249, 255], [223, 248, 255], [230, 249,...</td>\n",
       "      <td>11</td>\n",
       "    </tr>\n",
       "    <tr>\n",
       "      <th>7356</th>\n",
       "      <td>[[[209, 207, 208], [209, 207, 208], [207, 205,...</td>\n",
       "      <td>11</td>\n",
       "    </tr>\n",
       "    <tr>\n",
       "      <th>7357</th>\n",
       "      <td>[[[230, 232, 229], [230, 232, 229], [231, 233,...</td>\n",
       "      <td>11</td>\n",
       "    </tr>\n",
       "  </tbody>\n",
       "</table>\n",
       "<p>7358 rows × 2 columns</p>\n",
       "</div>"
      ],
      "text/plain": [
       "                                                 Images  Labels\n",
       "0     [[[61, 63, 62], [52, 54, 53], [52, 54, 53], [6...       0\n",
       "1     [[[66, 64, 65], [60, 60, 68], [111, 114, 129],...       0\n",
       "2     [[[66, 59, 53], [36, 35, 30], [39, 34, 30], [3...       0\n",
       "3     [[[1, 1, 0], [0, 0, 12], [0, 2, 7], [0, 1, 7],...       0\n",
       "4     [[[75, 74, 69], [57, 56, 54], [105, 103, 104],...       0\n",
       "...                                                 ...     ...\n",
       "7353  [[[0.615686274509804, 0.6862745098039216, 0.77...      11\n",
       "7354  [[[231, 231, 229], [228, 230, 229], [225, 229,...      11\n",
       "7355  [[[222, 249, 255], [223, 248, 255], [230, 249,...      11\n",
       "7356  [[[209, 207, 208], [209, 207, 208], [207, 205,...      11\n",
       "7357  [[[230, 232, 229], [230, 232, 229], [231, 233,...      11\n",
       "\n",
       "[7358 rows x 2 columns]"
      ]
     },
     "execution_count": 14,
     "metadata": {},
     "output_type": "execute_result"
    }
   ],
   "source": [
    "final_df"
   ]
  },
  {
   "cell_type": "code",
   "execution_count": 15,
   "id": "97e5fe97-7ac7-4f86-b735-067cbd1a0021",
   "metadata": {},
   "outputs": [],
   "source": [
    "floats = []\n",
    "for i in range(len(images)):\n",
    "    if (final_df[\"Images\"][i].dtype != 'uint8'):\n",
    "        floats.append(i)"
   ]
  },
  {
   "cell_type": "code",
   "execution_count": 16,
   "id": "3a07de94-2792-4394-a735-5c24a39a2822",
   "metadata": {},
   "outputs": [
    {
     "data": {
      "text/plain": [
       "[77,\n",
       " 113,\n",
       " 649,\n",
       " 871,\n",
       " 1117,\n",
       " 1278,\n",
       " 1352,\n",
       " 1370,\n",
       " 1401,\n",
       " 1464,\n",
       " 1549,\n",
       " 1689,\n",
       " 1760,\n",
       " 1780,\n",
       " 1984,\n",
       " 2066,\n",
       " 2069,\n",
       " 2147,\n",
       " 2175,\n",
       " 2283,\n",
       " 2303,\n",
       " 2351,\n",
       " 2406,\n",
       " 2472,\n",
       " 2712,\n",
       " 3047,\n",
       " 3093,\n",
       " 3098,\n",
       " 3148,\n",
       " 3173,\n",
       " 3283,\n",
       " 3404,\n",
       " 3541,\n",
       " 3542,\n",
       " 3636,\n",
       " 3821,\n",
       " 3935,\n",
       " 4144,\n",
       " 4239,\n",
       " 4243,\n",
       " 4511,\n",
       " 4575,\n",
       " 4606,\n",
       " 4673,\n",
       " 4914,\n",
       " 5041,\n",
       " 5308,\n",
       " 5396,\n",
       " 5585,\n",
       " 5762,\n",
       " 5783,\n",
       " 5990,\n",
       " 6013,\n",
       " 6025,\n",
       " 6354,\n",
       " 6388,\n",
       " 6414,\n",
       " 6446,\n",
       " 6517,\n",
       " 6654,\n",
       " 6856,\n",
       " 6883,\n",
       " 7014,\n",
       " 7030,\n",
       " 7039,\n",
       " 7071,\n",
       " 7353]"
      ]
     },
     "execution_count": 16,
     "metadata": {},
     "output_type": "execute_result"
    }
   ],
   "source": [
    "floats"
   ]
  },
  {
   "cell_type": "code",
   "execution_count": 17,
   "id": "0bdcd7ac-bbb0-41f6-ab0d-63989f0ac623",
   "metadata": {},
   "outputs": [],
   "source": [
    "#final_df.to_csv(\"incidents2.csv\")"
   ]
  },
  {
   "cell_type": "code",
   "execution_count": null,
   "id": "55309022-f2d5-4883-b998-45badd210013",
   "metadata": {},
   "outputs": [],
   "source": []
  }
 ],
 "metadata": {
  "kernelspec": {
   "display_name": "Python",
   "language": "python",
   "name": "python3"
  },
  "language_info": {
   "codemirror_mode": {
    "name": "ipython",
    "version": 3
   },
   "file_extension": ".py",
   "mimetype": "text/x-python",
   "name": "python",
   "nbconvert_exporter": "python",
   "pygments_lexer": "ipython3",
   "version": "3.8.10"
  }
 },
 "nbformat": 4,
 "nbformat_minor": 5
}
